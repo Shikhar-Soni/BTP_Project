{
 "cells": [
  {
   "cell_type": "markdown",
   "metadata": {},
   "source": [
    "# W-net Metrics"
   ]
  },
  {
   "cell_type": "code",
   "execution_count": 1,
   "metadata": {},
   "outputs": [],
   "source": [
    "%matplotlib inline\n",
    "import matplotlib.pylab as plt\n",
    "import numpy as np\n",
    "import os \n",
    "import skimage.measure as meas\n",
    "import natsort\n",
    "import glob\n",
    "import skimage"
   ]
  },
  {
   "cell_type": "code",
   "execution_count": 2,
   "metadata": {},
   "outputs": [
    {
     "name": "stdout",
     "output_type": "stream",
     "text": [
      "D:\\Dataset\\calgary\\Test\\Test\\e14296s4_P09216.7.npy\n",
      "D:\\Dataset\\calgary\\Test\\Test\\e14296s4_P09216_hybrid_sm.npy\n"
     ]
    }
   ],
   "source": [
    "orig = \"D:\\Dataset\\calgary\\Test\\Test\\*7.npy\"\n",
    "hybrid = \"D:\\Dataset\\calgary\\Test\\Test\\*hybrid_sm.npy\"\n",
    "\n",
    "orig = glob.glob(orig)\n",
    "hybrid = glob.glob(hybrid)\n",
    "\n",
    "orig = natsort.natsorted(orig)\n",
    "hybrid = natsort.natsorted(hybrid)\n",
    "print(orig[0])\n",
    "print(hybrid[0])\n",
    "ref = np.zeros((5*len(orig),256,256))\n",
    "hyb = np.zeros((5*len(hybrid),256,256))"
   ]
  },
  {
   "cell_type": "code",
   "execution_count": 8,
   "metadata": {},
   "outputs": [],
   "source": [
    "for ii in range(len(hybrid)):\n",
    "    aux1 = np.load(orig[ii])\n",
    "    aux1 = np.abs(np.fft.ifft2(aux1[:,:,:,0]+1j*aux1[:,:,:,1])).astype(np.float64)\n",
    "    ref[ii*5:(ii+1)*5,:,:] = aux1[51:56,:,:]\n",
    "    aux2 = np.load(hybrid[ii]).astype(np.float64)\n",
    "    hyb[ii*5:(ii+1)*5,:,:] = aux2"
   ]
  },
  {
   "cell_type": "code",
   "execution_count": 9,
   "metadata": {},
   "outputs": [],
   "source": [
    "metrics = np.zeros((hyb.shape[0],3))\n",
    "for ii in range(hyb.shape[0]):  \n",
    "    metrics[ii,0] = skimage.metrics.structural_similarity(ref[ii].ravel(),hyb[ii].ravel(),win_size = ref[ii].size-1)\n",
    "    metrics[ii,1] = skimage.metrics.normalized_root_mse(ref[ii],hyb[ii],normalization='min-max')\n",
    "    metrics[ii,2] = skimage.metrics.peak_signal_noise_ratio(ref[ii],hyb[ii],data_range=(ref[ii].max()-ref[ii].min())) "
   ]
  },
  {
   "cell_type": "code",
   "execution_count": 10,
   "metadata": {},
   "outputs": [
    {
     "name": "stdout",
     "output_type": "stream",
     "text": [
      "Hybrid\n",
      "0.985 +/- 0.002\n",
      "3.093 +/- 0.187\n",
      "30.210 +/- 0.538\n"
     ]
    }
   ],
   "source": [
    "metrics[:,1] = metrics[:,1]*100\n",
    "print(\"Hybrid\")\n",
    "print(\"%.3f +/- %.3f\" %(metrics[:,0].mean(),metrics[:,0].std()))\n",
    "print(\"%.3f +/- %.3f\" %(metrics[:,1].mean(),metrics[:,1].std()))\n",
    "print(\"%.3f +/- %.3f\" %(metrics[:,2].mean(),metrics[:,2].std()))"
   ]
  },
  {
   "cell_type": "code",
   "execution_count": 11,
   "metadata": {},
   "outputs": [
    {
     "name": "stdout",
     "output_type": "stream",
     "text": [
      "[0.98457414 0.98491389 0.98474062 0.98416684 0.98390522 0.98880144\n",
      " 0.98891112 0.98891156 0.98879607 0.98821689 0.98780354 0.9876511\n",
      " 0.98736669 0.98759001 0.98770084 0.98488376 0.98455619 0.9843872\n",
      " 0.98385333 0.98382672 0.98717992 0.98756345 0.98763959 0.98744622\n",
      " 0.98747315 0.98428523 0.98400565 0.98349576 0.98313868 0.98210978\n",
      " 0.98528439 0.9852216  0.98504318 0.98495459 0.98481051 0.98083193\n",
      " 0.98042203 0.97987671 0.97994063 0.97913315 0.98668967 0.98607896\n",
      " 0.98564181 0.98552773 0.98543979 0.98492919 0.98455659 0.98448642\n",
      " 0.98404649 0.98402329]\n"
     ]
    }
   ],
   "source": [
    "import sys\n",
    "np.set_printoptions(threshold=sys.maxsize)\n",
    "print(metrics[:,0])"
   ]
  },
  {
   "cell_type": "code",
   "execution_count": null,
   "metadata": {},
   "outputs": [],
   "source": []
  }
 ],
 "metadata": {
  "kernelspec": {
   "display_name": "Python 3 (ipykernel)",
   "language": "python",
   "name": "python3"
  },
  "language_info": {
   "codemirror_mode": {
    "name": "ipython",
    "version": 3
   },
   "file_extension": ".py",
   "mimetype": "text/x-python",
   "name": "python",
   "nbconvert_exporter": "python",
   "pygments_lexer": "ipython3",
   "version": "3.9.12"
  }
 },
 "nbformat": 4,
 "nbformat_minor": 2
}
