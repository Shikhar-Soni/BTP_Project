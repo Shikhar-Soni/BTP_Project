{
 "cells": [
  {
   "cell_type": "code",
   "execution_count": 2,
   "id": "954d176c",
   "metadata": {},
   "outputs": [],
   "source": [
    "import os\n",
    "import h5py\n",
    "import numpy as np\n",
    "from matplotlib import pyplot as plt\n",
    "import PIL\n",
    "import cv2\n",
    "import sys"
   ]
  },
  {
   "cell_type": "code",
   "execution_count": 9,
   "id": "27587b70",
   "metadata": {},
   "outputs": [],
   "source": [
    "BASE_FOLDER = r\"C:\\Users\\Soumya\\Downloads\\archive\\BraTS2020_training_data\\content\\data\"\n",
    "SAVE_FOLDER = r\"C:\\Users\\Soumya\\Desktop\\images\"\n",
    "\n",
    "_list = [70, 75, 80, 83, 85, 88, 90, 95, 100]\n",
    "\n",
    "count = 0\n",
    "for i in range(1, 370):\n",
    "    for j in _list:\n",
    "        file_name = f\"volume_{i}_slice_{j}.h5\"\n",
    "        \n",
    "        # the file path for individual MRIs\n",
    "        if(file_name.split(\".\")[-1] != \"h5\"):\n",
    "            print(\"Unknown file type\")\n",
    "\n",
    "        full_file_path = BASE_FOLDER + \"\\\\\" + file_name\n",
    "        hf = h5py.File(full_file_path)\n",
    "        \n",
    "        image_file_name = os.path.join(SAVE_FOLDER, f\"volume_{i}_slice_{j}.png\")\n",
    "        \n",
    "        plt.imsave(image_file_name, hf['image'][:,:,0], cmap='gray')"
   ]
  }
 ],
 "metadata": {
  "kernelspec": {
   "display_name": "Python 3 (ipykernel)",
   "language": "python",
   "name": "python3"
  },
  "language_info": {
   "codemirror_mode": {
    "name": "ipython",
    "version": 3
   },
   "file_extension": ".py",
   "mimetype": "text/x-python",
   "name": "python",
   "nbconvert_exporter": "python",
   "pygments_lexer": "ipython3",
   "version": "3.9.12"
  }
 },
 "nbformat": 4,
 "nbformat_minor": 5
}
